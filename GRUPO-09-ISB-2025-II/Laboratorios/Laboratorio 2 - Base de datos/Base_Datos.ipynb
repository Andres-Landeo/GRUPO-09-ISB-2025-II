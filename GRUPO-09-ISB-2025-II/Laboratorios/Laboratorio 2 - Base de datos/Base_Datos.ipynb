{
 "cells": [
  {
   "cell_type": "markdown",
   "id": "cfde69fd",
   "metadata": {},
   "source": [
    "### Base de datos"
   ]
  }
 ],
 "metadata": {
  "language_info": {
   "name": "python"
  }
 },
 "nbformat": 4,
 "nbformat_minor": 5
}
